{
 "metadata": {
  "language_info": {
   "codemirror_mode": {
    "name": "ipython",
    "version": 3
   },
   "file_extension": ".py",
   "mimetype": "text/x-python",
   "name": "python",
   "nbconvert_exporter": "python",
   "pygments_lexer": "ipython3",
   "version": "3.8.8"
  },
  "orig_nbformat": 2,
  "kernelspec": {
   "name": "python388jvsc74a57bd04b32070e269b39f2e365c7cc05cb6b3223549bd6537462658ed3b1a70619d089",
   "display_name": "Python 3.8.8 64-bit ('conspiracies': virtualenvwrapper)"
  }
 },
 "nbformat": 4,
 "nbformat_minor": 2,
 "cells": [
  {
   "source": [
    "# WIP: Robustness and Bias checks with DaCy\n",
    "----\n",
    "\n",
    "These falls into a larger category of [behavioral testing](https://github.com/marcotcr/checklist) of NLP systems.\n",
    "\n",
    "## Setup\n",
    "---\n",
    "Before we start we assume you have installed DaCy and SpaCy if not you can run the following:\n"
   ],
   "cell_type": "markdown",
   "metadata": {}
  },
  {
   "cell_type": "code",
   "execution_count": 1,
   "metadata": {},
   "outputs": [],
   "source": [
    "!pip install git+https://github.com/KennethEnevoldsen/DaCy"
   ]
  },
  {
   "cell_type": "code",
   "execution_count": null,
   "metadata": {},
   "outputs": [],
   "source": [
    "# when running from a downloaded version of the github you will need to move back one folder.\n",
    "import os\n",
    "os.chdir(\"..\")"
   ]
  },
  {
   "source": [
    "\n",
    "----\n",
    "\n",
    "Let's start of by loading DaCy as well as the smallest of the two models:"
   ],
   "cell_type": "markdown",
   "metadata": {}
  },
  {
   "cell_type": "code",
   "execution_count": 1,
   "metadata": {},
   "outputs": [
    {
     "output_type": "stream",
     "name": "stdout",
     "text": [
      "da_dacy_medium_tft-0.0.0\nda_dacy_large_tft-0.0.0\n"
     ]
    }
   ],
   "source": [
    "import dacy\n",
    "\n",
    "# to see available models\n",
    "for model in dacy.models():\n",
    "    print(model)\n",
    "\n",
    "# loading the smallest model\n",
    "nlp = dacy.load(\"da_dacy_large_tft-0.0.0\")"
   ]
  },
  {
   "source": [
    "# ADD MORE HERE (currently just a design)\n",
    "the following is just how it is intended to work:"
   ],
   "cell_type": "markdown",
   "metadata": {}
  },
  {
   "cell_type": "code",
   "execution_count": null,
   "metadata": {},
   "outputs": [],
   "source": [
    "train, dev, test = dane(predefined_splits=True) # read dataset"
   ]
  },
  {
   "cell_type": "code",
   "execution_count": null,
   "metadata": {},
   "outputs": [],
   "source": [
    "# create apply functions\n",
    "\n",
    "# for standard spacy pipeline\n",
    "def apply_model(example):\n",
    "    example.predicted = nlp(example.predicted.text)\n",
    "    return example\n",
    "\n",
    "# an example of a custom one for DaNLP BERT - maybe create a wrapper for this type of model?\n",
    "def apply_bert_model(example):\n",
    "    doc = example.predicted\n",
    "    # uses spacy tokenization\n",
    "    tokens, labels = bert.predict([t.text for t in example.predicted])\n",
    "    ent = []\n",
    "    for i, t in enumerate(zip(doc, labels)):\n",
    "        token, label = t\n",
    "\n",
    "        # turn OOB labels into spans\n",
    "        if label == \"O\":\n",
    "            continue\n",
    "        iob, ent_type = label.split(\"-\")\n",
    "        if (i - 1 >= 0 and iob == \"I\" and labels[i - 1] == \"O\") or (\n",
    "            i == 0 and iob == \"I\"\n",
    "        ):\n",
    "            iob = \"B\"\n",
    "        if iob == \"B\":\n",
    "            start = i\n",
    "        if i + 1 >= len(labels) or labels[i + 1].split(\"-\")[0] != \"I\":\n",
    "            ent.append(Span(doc, start, i + 1, label=ent_type))\n",
    "    doc.set_ents(ent)\n",
    "    example.predicted = doc\n",
    "    return example"
   ]
  },
  {
   "cell_type": "code",
   "execution_count": null,
   "metadata": {},
   "outputs": [],
   "source": [
    "from spacy.scorer import Scorer\n",
    "from spacy.training.augment import create_lower_casing_augmenter\n",
    "\n",
    "scorer = Scorer()\n",
    "\n",
    "out = dacy.score(corpus=test, # the corpus you want to apply it to\n",
    "           augmenter=create_lower_casing_augmenter(1), # 1 = lowercase all\n",
    "           apply_fn=apply_model # denne syntax er lidt grim, men ved ikke rigtig hvordan man skulle fikse det - evt. bare en spacy pipeline eller en apply func?\n",
    "           score_fn=scorer.score, # scoring funciton this includes all - use partial(scorer.score_spans, attr =\"ents\") for only entities\n",
    "           )\n",
    "# tænker både augmenters, apply_fn og corpus can være en liste"
   ]
  },
  {
   "source": [
    "Output structure:\n",
    "```\n",
    ">>> out\n",
    "{\"corpus1\": {\"augmenter1\": {\"model/apply_fn1\": score_dict}}, \"corpus2\": ...}\n",
    "```\n",
    "\n",
    "men måske bliver det for nested. er det federe bare ikke at kunne inputte lister og så få noget alla:\n",
    "```\n",
    "score_dict\n",
    "```\n",
    "\n",
    "Det ville gøre den meget nemt at bruge, men du skulle hele tiden wrappe et loop omkring det. Den første løsning kunne man endda nemt lave en \"to dataframe\" converter."
   ],
   "cell_type": "markdown",
   "metadata": {}
  },
  {
   "cell_type": "code",
   "execution_count": null,
   "metadata": {},
   "outputs": [],
   "source": [
    "\n",
    "Example = (doc_gold, doc_predicted)\n",
    "\n",
    "# unweighted\n",
    "create_entity_augmenter(replace_dict = {\"PER\": [danske, kvinder, ikke-vestlige,...]})\n",
    "    # den her går vi med indtil videre (efter samtale med KLN)\n",
    "\n",
    "\n",
    "# weighted\n",
    "create_entity_augmenter(replace_dict = {\"PER\": [(NAVN, weight), (NAVN, weight)]}, p = 1) # p how often should it replace a name (sampled from replace dict according to weight)\n",
    "\n",
    "[orignal name, replace name, category of replace name, performance]"
   ]
  }
 ]
}