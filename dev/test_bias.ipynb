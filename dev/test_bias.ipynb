{
 "metadata": {
  "language_info": {
   "codemirror_mode": {
    "name": "ipython",
    "version": 3
   },
   "file_extension": ".py",
   "mimetype": "text/x-python",
   "name": "python",
   "nbconvert_exporter": "python",
   "pygments_lexer": "ipython3",
   "version": "3.8.8"
  },
  "orig_nbformat": 4,
  "kernelspec": {
   "name": "python3",
   "display_name": "Python 3.8.8 64-bit ('NLP': virtualenvwrapper)"
  },
  "interpreter": {
   "hash": "2136a9c3637fd160483224d7922e48bf03b650be5dff26724a0c1f8d1279953b"
  }
 },
 "nbformat": 4,
 "nbformat_minor": 2,
 "cells": [
  {
   "source": [
    "# Check DaCy robustness against augmented names"
   ],
   "cell_type": "markdown",
   "metadata": {}
  },
  {
   "cell_type": "code",
   "execution_count": 1,
   "metadata": {},
   "outputs": [],
   "source": [
    "import os\n",
    "os.chdir(\"..\")"
   ]
  },
  {
   "cell_type": "code",
   "execution_count": 2,
   "metadata": {},
   "outputs": [],
   "source": [
    "import dacy\n",
    "from dacy.augmenters import create_pers_augmenter\n",
    "from dacy.datasets import danish_names, muslim_names\n",
    "from dacy.score import score\n",
    "\n",
    "import spacy\n",
    "\n",
    "from typing import Callable, List\n",
    "\n",
    "from functools import partial"
   ]
  },
  {
   "source": [
    "Start off by loading the test set and defining a function that applies the small Spacy model on the data."
   ],
   "cell_type": "markdown",
   "metadata": {}
  },
  {
   "cell_type": "code",
   "execution_count": 3,
   "metadata": {},
   "outputs": [],
   "source": [
    "train, dev, test = dacy.datasets.dane(splits=[\"train\", \"dev\", \"test\"])\n",
    "nlp = spacy.load(\"da_core_news_sm\")\n",
    "\n",
    "\n",
    "def apply_model(example, nlp):\n",
    "    example.predicted = nlp(example.predicted.text)\n",
    "    return example\n",
    "\n",
    "\n",
    "# make an instance of apply_model using the spacy nlp\n",
    "apply_spacy_model = partial(apply_model, nlp=nlp)"
   ]
  },
  {
   "cell_type": "code",
   "execution_count": 4,
   "metadata": {},
   "outputs": [
    {
     "output_type": "execute_result",
     "data": {
      "text/plain": [
       "<spacy.training.corpus.Corpus at 0x10a01ea60>"
      ]
     },
     "metadata": {},
     "execution_count": 4
    }
   ],
   "source": [
    "test"
   ]
  },
  {
   "source": [
    "Let's test how well the model performs on the original data, data where names are changed to other Danish names, and data where names are changes to names of Muslim origin. The name augmenter allows us to specify a number of naming patterns we wish to augment the names to. Defaults are `[\"fn,ln\", \"abbpunct,ln\"]`, which means names are augmented to the follow the pattern of either \"first_name last_name\" (e.g. Mette Frederiksen) or \"abbreviated_first_name last_name\" (e.g. M. Frederiksen). The patterns include \"fn\" (first name, Mette), \"ln\" (last name, Frederiksen), \"abb\" (abbreviated, M), \"abbpunct\" (abbreviated + ., M.). These patterns can be designed however you see fit. We will stick to the defaults for now. "
   ],
   "cell_type": "markdown",
   "metadata": {}
  },
  {
   "cell_type": "code",
   "execution_count": 5,
   "metadata": {},
   "outputs": [],
   "source": [
    "dk_name_dict = danish_names()\n",
    "muslim_name_dict = muslim_names()\n",
    "\n",
    "# Set keep_name to False to make the augmenter choose a new name from the dictionary\n",
    "#   otherwise, it would simply make the name fit the pattern (e.g. make abbreviations)\n",
    "# force_size ensures that the names are of the same length/format as the pattern.\n",
    "dk_aug = create_pers_augmenter(dk_name_dict, force_size=True, keep_name=False)\n",
    "muslim_aug = create_pers_augmenter(muslim_name_dict, force_size=True, keep_name=False)\n"
   ]
  },
  {
   "cell_type": "code",
   "execution_count": 6,
   "metadata": {},
   "outputs": [],
   "source": [
    "scores_raw = score(test, apply_spacy_model, score_fn=[\"ents\"])\n",
    "scores_dk = score(test, apply_spacy_model, augmenter=dk_aug, score_fn=[\"ents\"])\n",
    "scores_muslim = score(test, apply_spacy_model, augmenter=muslim_aug, score_fn=[\"ents\"])"
   ]
  },
  {
   "cell_type": "code",
   "execution_count": 7,
   "metadata": {},
   "outputs": [
    {
     "output_type": "execute_result",
     "data": {
      "text/plain": [
       "     ents_p    ents_r    ents_f  ents_per_type_PER_p  ents_per_type_PER_r  \\\n",
       "0  0.719262  0.629032  0.671128             0.768421             0.811111   \n",
       "1  0.725410  0.634409  0.676864             0.760204             0.827778   \n",
       "2  0.700624  0.603943  0.648701             0.752874             0.727778   \n",
       "\n",
       "   ents_per_type_PER_f  ents_per_type_LOC_p  ents_per_type_LOC_r  \\\n",
       "0             0.789189             0.673267             0.708333   \n",
       "1             0.792553             0.680000             0.708333   \n",
       "2             0.740113             0.653846             0.708333   \n",
       "\n",
       "   ents_per_type_LOC_f  ents_per_type_MISC_p  ents_per_type_MISC_r  \\\n",
       "0             0.690355              0.680000              0.561983   \n",
       "1             0.693878              0.701031              0.561983   \n",
       "2             0.680000              0.690000              0.570248   \n",
       "\n",
       "   ents_per_type_MISC_f  ents_per_type_ORG_p  ents_per_type_ORG_r  \\\n",
       "0              0.615385             0.711340             0.428571   \n",
       "1              0.623853             0.726316             0.428571   \n",
       "2              0.624434             0.669903             0.428571   \n",
       "\n",
       "   ents_per_type_ORG_f  \n",
       "0             0.534884  \n",
       "1             0.539062  \n",
       "2             0.522727  "
      ],
      "text/html": "<div>\n<style scoped>\n    .dataframe tbody tr th:only-of-type {\n        vertical-align: middle;\n    }\n\n    .dataframe tbody tr th {\n        vertical-align: top;\n    }\n\n    .dataframe thead th {\n        text-align: right;\n    }\n</style>\n<table border=\"1\" class=\"dataframe\">\n  <thead>\n    <tr style=\"text-align: right;\">\n      <th></th>\n      <th>ents_p</th>\n      <th>ents_r</th>\n      <th>ents_f</th>\n      <th>ents_per_type_PER_p</th>\n      <th>ents_per_type_PER_r</th>\n      <th>ents_per_type_PER_f</th>\n      <th>ents_per_type_LOC_p</th>\n      <th>ents_per_type_LOC_r</th>\n      <th>ents_per_type_LOC_f</th>\n      <th>ents_per_type_MISC_p</th>\n      <th>ents_per_type_MISC_r</th>\n      <th>ents_per_type_MISC_f</th>\n      <th>ents_per_type_ORG_p</th>\n      <th>ents_per_type_ORG_r</th>\n      <th>ents_per_type_ORG_f</th>\n    </tr>\n  </thead>\n  <tbody>\n    <tr>\n      <th>0</th>\n      <td>0.719262</td>\n      <td>0.629032</td>\n      <td>0.671128</td>\n      <td>0.768421</td>\n      <td>0.811111</td>\n      <td>0.789189</td>\n      <td>0.673267</td>\n      <td>0.708333</td>\n      <td>0.690355</td>\n      <td>0.680000</td>\n      <td>0.561983</td>\n      <td>0.615385</td>\n      <td>0.711340</td>\n      <td>0.428571</td>\n      <td>0.534884</td>\n    </tr>\n    <tr>\n      <th>1</th>\n      <td>0.725410</td>\n      <td>0.634409</td>\n      <td>0.676864</td>\n      <td>0.760204</td>\n      <td>0.827778</td>\n      <td>0.792553</td>\n      <td>0.680000</td>\n      <td>0.708333</td>\n      <td>0.693878</td>\n      <td>0.701031</td>\n      <td>0.561983</td>\n      <td>0.623853</td>\n      <td>0.726316</td>\n      <td>0.428571</td>\n      <td>0.539062</td>\n    </tr>\n    <tr>\n      <th>2</th>\n      <td>0.700624</td>\n      <td>0.603943</td>\n      <td>0.648701</td>\n      <td>0.752874</td>\n      <td>0.727778</td>\n      <td>0.740113</td>\n      <td>0.653846</td>\n      <td>0.708333</td>\n      <td>0.680000</td>\n      <td>0.690000</td>\n      <td>0.570248</td>\n      <td>0.624434</td>\n      <td>0.669903</td>\n      <td>0.428571</td>\n      <td>0.522727</td>\n    </tr>\n  </tbody>\n</table>\n</div>"
     },
     "metadata": {},
     "execution_count": 7
    }
   ],
   "source": [
    "scores = scores_raw + scores_dk + scores_muslim\n",
    "scores.to_df()"
   ]
  },
  {
   "source": [
    "Augmenting names to a Danish name which fit the pattern of either \"fn,ln\" or \"abbpunct,ln\" actually made it easier for the model than the raw training data. However, augmenting with muslim names made the model perform a fair bit worse than baseline - look at the recall for PERS!\n",
    "\n",
    "Let's see how good the model is with words that start with an abbreviation. We will set `force_size` to False so only the first word will be augmented. `keep_name` will be true, so we're ensuring that only the first word in the name will be modified. "
   ],
   "cell_type": "markdown",
   "metadata": {}
  },
  {
   "cell_type": "code",
   "execution_count": 8,
   "metadata": {},
   "outputs": [
    {
     "output_type": "execute_result",
     "data": {
      "text/plain": [
       "     ents_p    ents_r    ents_f  ents_per_type_PER_p  ents_per_type_PER_r  \\\n",
       "0  0.719262  0.629032  0.671128             0.768421             0.811111   \n",
       "1  0.725410  0.634409  0.676864             0.760204             0.827778   \n",
       "2  0.700624  0.603943  0.648701             0.752874             0.727778   \n",
       "3  0.705757  0.593190  0.644596             0.732558             0.700000   \n",
       "\n",
       "   ents_per_type_PER_f  ents_per_type_LOC_p  ents_per_type_LOC_r  \\\n",
       "0             0.789189             0.673267             0.708333   \n",
       "1             0.792553             0.680000             0.708333   \n",
       "2             0.740113             0.653846             0.708333   \n",
       "3             0.715909             0.680000             0.708333   \n",
       "\n",
       "   ents_per_type_LOC_f  ents_per_type_MISC_p  ents_per_type_MISC_r  \\\n",
       "0             0.690355              0.680000              0.561983   \n",
       "1             0.693878              0.701031              0.561983   \n",
       "2             0.680000              0.690000              0.570248   \n",
       "3             0.693878              0.686869              0.561983   \n",
       "\n",
       "   ents_per_type_MISC_f  ents_per_type_ORG_p  ents_per_type_ORG_r  \\\n",
       "0              0.615385             0.711340             0.428571   \n",
       "1              0.623853             0.726316             0.428571   \n",
       "2              0.624434             0.669903             0.428571   \n",
       "3              0.618182             0.704082             0.428571   \n",
       "\n",
       "   ents_per_type_ORG_f  \n",
       "0             0.534884  \n",
       "1             0.539062  \n",
       "2             0.522727  \n",
       "3             0.532819  "
      ],
      "text/html": "<div>\n<style scoped>\n    .dataframe tbody tr th:only-of-type {\n        vertical-align: middle;\n    }\n\n    .dataframe tbody tr th {\n        vertical-align: top;\n    }\n\n    .dataframe thead th {\n        text-align: right;\n    }\n</style>\n<table border=\"1\" class=\"dataframe\">\n  <thead>\n    <tr style=\"text-align: right;\">\n      <th></th>\n      <th>ents_p</th>\n      <th>ents_r</th>\n      <th>ents_f</th>\n      <th>ents_per_type_PER_p</th>\n      <th>ents_per_type_PER_r</th>\n      <th>ents_per_type_PER_f</th>\n      <th>ents_per_type_LOC_p</th>\n      <th>ents_per_type_LOC_r</th>\n      <th>ents_per_type_LOC_f</th>\n      <th>ents_per_type_MISC_p</th>\n      <th>ents_per_type_MISC_r</th>\n      <th>ents_per_type_MISC_f</th>\n      <th>ents_per_type_ORG_p</th>\n      <th>ents_per_type_ORG_r</th>\n      <th>ents_per_type_ORG_f</th>\n    </tr>\n  </thead>\n  <tbody>\n    <tr>\n      <th>0</th>\n      <td>0.719262</td>\n      <td>0.629032</td>\n      <td>0.671128</td>\n      <td>0.768421</td>\n      <td>0.811111</td>\n      <td>0.789189</td>\n      <td>0.673267</td>\n      <td>0.708333</td>\n      <td>0.690355</td>\n      <td>0.680000</td>\n      <td>0.561983</td>\n      <td>0.615385</td>\n      <td>0.711340</td>\n      <td>0.428571</td>\n      <td>0.534884</td>\n    </tr>\n    <tr>\n      <th>1</th>\n      <td>0.725410</td>\n      <td>0.634409</td>\n      <td>0.676864</td>\n      <td>0.760204</td>\n      <td>0.827778</td>\n      <td>0.792553</td>\n      <td>0.680000</td>\n      <td>0.708333</td>\n      <td>0.693878</td>\n      <td>0.701031</td>\n      <td>0.561983</td>\n      <td>0.623853</td>\n      <td>0.726316</td>\n      <td>0.428571</td>\n      <td>0.539062</td>\n    </tr>\n    <tr>\n      <th>2</th>\n      <td>0.700624</td>\n      <td>0.603943</td>\n      <td>0.648701</td>\n      <td>0.752874</td>\n      <td>0.727778</td>\n      <td>0.740113</td>\n      <td>0.653846</td>\n      <td>0.708333</td>\n      <td>0.680000</td>\n      <td>0.690000</td>\n      <td>0.570248</td>\n      <td>0.624434</td>\n      <td>0.669903</td>\n      <td>0.428571</td>\n      <td>0.522727</td>\n    </tr>\n    <tr>\n      <th>3</th>\n      <td>0.705757</td>\n      <td>0.593190</td>\n      <td>0.644596</td>\n      <td>0.732558</td>\n      <td>0.700000</td>\n      <td>0.715909</td>\n      <td>0.680000</td>\n      <td>0.708333</td>\n      <td>0.693878</td>\n      <td>0.686869</td>\n      <td>0.561983</td>\n      <td>0.618182</td>\n      <td>0.704082</td>\n      <td>0.428571</td>\n      <td>0.532819</td>\n    </tr>\n  </tbody>\n</table>\n</div>"
     },
     "metadata": {},
     "execution_count": 8
    }
   ],
   "source": [
    "abb_aug = create_pers_augmenter(dk_name_dict, patterns=[\"abbpunct\"], force_size=False, keep_name=True)\n",
    "scores_abb = score(test, apply_spacy_model, augmenter=abb_aug, score_fn=[\"ents\"])\n",
    "scores += scores_abb\n",
    "scores.to_df()"
   ]
  },
  {
   "cell_type": "code",
   "execution_count": 10,
   "metadata": {},
   "outputs": [
    {
     "output_type": "execute_result",
     "data": {
      "text/plain": [
       "     ents_p    ents_r    ents_f  ents_per_type_PER_p  ents_per_type_PER_r  \\\n",
       "0  0.719262  0.629032  0.671128             0.768421             0.811111   \n",
       "\n",
       "   ents_per_type_PER_f  ents_per_type_LOC_p  ents_per_type_LOC_r  \\\n",
       "0             0.789189             0.673267             0.708333   \n",
       "\n",
       "   ents_per_type_LOC_f  ents_per_type_MISC_p  ents_per_type_MISC_r  \\\n",
       "0             0.690355                  0.68              0.561983   \n",
       "\n",
       "   ents_per_type_MISC_f  ents_per_type_ORG_p  ents_per_type_ORG_r  \\\n",
       "0              0.615385              0.71134             0.428571   \n",
       "\n",
       "   ents_per_type_ORG_f  \n",
       "0             0.534884  "
      ],
      "text/html": "<div>\n<style scoped>\n    .dataframe tbody tr th:only-of-type {\n        vertical-align: middle;\n    }\n\n    .dataframe tbody tr th {\n        vertical-align: top;\n    }\n\n    .dataframe thead th {\n        text-align: right;\n    }\n</style>\n<table border=\"1\" class=\"dataframe\">\n  <thead>\n    <tr style=\"text-align: right;\">\n      <th></th>\n      <th>ents_p</th>\n      <th>ents_r</th>\n      <th>ents_f</th>\n      <th>ents_per_type_PER_p</th>\n      <th>ents_per_type_PER_r</th>\n      <th>ents_per_type_PER_f</th>\n      <th>ents_per_type_LOC_p</th>\n      <th>ents_per_type_LOC_r</th>\n      <th>ents_per_type_LOC_f</th>\n      <th>ents_per_type_MISC_p</th>\n      <th>ents_per_type_MISC_r</th>\n      <th>ents_per_type_MISC_f</th>\n      <th>ents_per_type_ORG_p</th>\n      <th>ents_per_type_ORG_r</th>\n      <th>ents_per_type_ORG_f</th>\n    </tr>\n  </thead>\n  <tbody>\n    <tr>\n      <th>0</th>\n      <td>0.719262</td>\n      <td>0.629032</td>\n      <td>0.671128</td>\n      <td>0.768421</td>\n      <td>0.811111</td>\n      <td>0.789189</td>\n      <td>0.673267</td>\n      <td>0.708333</td>\n      <td>0.690355</td>\n      <td>0.68</td>\n      <td>0.561983</td>\n      <td>0.615385</td>\n      <td>0.71134</td>\n      <td>0.428571</td>\n      <td>0.534884</td>\n    </tr>\n  </tbody>\n</table>\n</div>"
     },
     "metadata": {},
     "execution_count": 10
    }
   ],
   "source": [
    "scores_raw_2 = score(test, apply_spacy_model, score_fn=[\"ents\"])\n",
    "scores_raw_2.to_df()"
   ]
  },
  {
   "cell_type": "code",
   "execution_count": 18,
   "metadata": {},
   "outputs": [
    {
     "output_type": "stream",
     "name": "stdout",
     "text": [
      "Help on function score in module dacy.testing.score:\n\nscore(corpus: 'Corpus', apply_fn: 'Callable', score_fn: 'List[Union[Callable, str]]' = ['toquitken', 'pos', 'ents'], augmenter: 'Optional[Callable]' = None, k: 'int' = 1, nlp: 'Optional[Language]' = None, **kwargs) -> 'Scores'\n    scores a models performance on a given corpus with potentially augmentations applied to it.\n    \n    Args:\n        corpus (Corpus): A spacy Corpus\n        apply_fn (Callable): A wrapper function for the model you wish to score. The model should take in a spacy Example and output a tagged version of it.\n        score_fn (List[Union[Callable, str]], optional): A scoring function which takes in a list of examples and return a dictionary of the form {\"score_name\": score}.\n            Four potiential strings are valid. \"ents\" for measuring the performance of entity spans. \"pos\" for measuring the performance of pos-tags.\n            \"token\" for measuring the performance of tokenization. \"nlp\" for measuring the performance of all components in the specified nlp pipeline. Defaults to [\"token\", \"pos\", \"ents\"].\n        augmenter (Optional[Callable]): A spacy style augmenter which should be applied to the corpus. Defaults to None.\n        k (int, optional): Number of times it should run the augmentation and test the performance on the corpus. Defaults to 1.\n        nlp (Optional[Language], optional): A spacy processing pipeline. If None it will use an empty Danish pipeline. Defaults to None.\n    \n    Returns:\n        Scores: returns a Score dataclass. Which contain the scores dictionary and convenience function for printing and turning it into a dataframe.\n    \n    Example:\n        >>> from spacy.training.augment import create_lower_casing_augmenter\n        >>> train, dev, test = dacy.datasets.dane(predefined_splits=True)\n        >>> def apply_model(example):\n                example.predicted = nlp(example.predicted.text)\n                return example\n        >>> scores = scores(test, augmenter=create_lower_casing_augmenter(0.5), apply_model)\n        >>> scores.scores # extract dictionary of scores\n        >>> scores.to_df() # creates a pandas dataframe of scores\n\n"
     ]
    }
   ],
   "source": [
    "help(score)"
   ]
  },
  {
   "source": [
    "The model looses some performance, not but too bad.\n",
    "\n",
    "Let's compare DaCy small and large on the same tasks.\n"
   ],
   "cell_type": "markdown",
   "metadata": {}
  },
  {
   "cell_type": "code",
   "execution_count": 3,
   "metadata": {},
   "outputs": [
    {
     "output_type": "stream",
     "name": "stderr",
     "text": [
      "d845d4fef9ea165ee7bd6dd954b95de2?download: 0.00B [00:00, ?B/s][INFO] Downloading '{model}'\n",
      "d845d4fef9ea165ee7bd6dd954b95de2?download: 52.6MB [03:23, 259kB/s]                            \n"
     ]
    },
    {
     "output_type": "error",
     "ename": "OSError",
     "evalue": "[E050] Can't find model '/Users/au561649/.dacy/da_dacy_small_tft-0.0.0'. It doesn't seem to be a Python package or a valid path to a data directory.",
     "traceback": [
      "\u001b[0;31m---------------------------------------------------------------------------\u001b[0m",
      "\u001b[0;31mOSError\u001b[0m                                   Traceback (most recent call last)",
      "\u001b[0;32m<ipython-input-3-6582bc132347>\u001b[0m in \u001b[0;36m<module>\u001b[0;34m\u001b[0m\n\u001b[1;32m      1\u001b[0m \u001b[0;31m#dacy_large = dacy.load(\"da_dacy_large_tft-0.0.0\")\u001b[0m\u001b[0;34m\u001b[0m\u001b[0;34m\u001b[0m\u001b[0;34m\u001b[0m\u001b[0m\n\u001b[0;32m----> 2\u001b[0;31m \u001b[0mdacy_small\u001b[0m \u001b[0;34m=\u001b[0m \u001b[0mdacy\u001b[0m\u001b[0;34m.\u001b[0m\u001b[0mload\u001b[0m\u001b[0;34m(\u001b[0m\u001b[0;34m\"da_dacy_small_tft-0.0.0\"\u001b[0m\u001b[0;34m)\u001b[0m\u001b[0;34m\u001b[0m\u001b[0;34m\u001b[0m\u001b[0m\n\u001b[0m",
      "\u001b[0;32m~/Desktop/Github/DaCy/dacy/load.py\u001b[0m in \u001b[0;36mload\u001b[0;34m(model, path)\u001b[0m\n\u001b[1;32m     12\u001b[0m     \u001b[0mdownload_model\u001b[0m\u001b[0;34m(\u001b[0m\u001b[0mmodel\u001b[0m\u001b[0;34m,\u001b[0m \u001b[0mpath\u001b[0m\u001b[0;34m)\u001b[0m\u001b[0;34m\u001b[0m\u001b[0;34m\u001b[0m\u001b[0m\n\u001b[1;32m     13\u001b[0m     \u001b[0mpath\u001b[0m \u001b[0;34m=\u001b[0m \u001b[0mos\u001b[0m\u001b[0;34m.\u001b[0m\u001b[0mpath\u001b[0m\u001b[0;34m.\u001b[0m\u001b[0mjoin\u001b[0m\u001b[0;34m(\u001b[0m\u001b[0mpath\u001b[0m\u001b[0;34m,\u001b[0m \u001b[0mmodel\u001b[0m\u001b[0;34m)\u001b[0m\u001b[0;34m\u001b[0m\u001b[0;34m\u001b[0m\u001b[0m\n\u001b[0;32m---> 14\u001b[0;31m     \u001b[0;32mreturn\u001b[0m \u001b[0mspacy\u001b[0m\u001b[0;34m.\u001b[0m\u001b[0mload\u001b[0m\u001b[0;34m(\u001b[0m\u001b[0mpath\u001b[0m\u001b[0;34m)\u001b[0m\u001b[0;34m\u001b[0m\u001b[0;34m\u001b[0m\u001b[0m\n\u001b[0m",
      "\u001b[0;32m~/.virtualenvs/NLP/lib/python3.8/site-packages/spacy/__init__.py\u001b[0m in \u001b[0;36mload\u001b[0;34m(name, disable, exclude, config)\u001b[0m\n\u001b[1;32m     45\u001b[0m     \u001b[0mRETURNS\u001b[0m \u001b[0;34m(\u001b[0m\u001b[0mLanguage\u001b[0m\u001b[0;34m)\u001b[0m\u001b[0;34m:\u001b[0m \u001b[0mThe\u001b[0m \u001b[0mloaded\u001b[0m \u001b[0mnlp\u001b[0m \u001b[0mobject\u001b[0m\u001b[0;34m.\u001b[0m\u001b[0;34m\u001b[0m\u001b[0;34m\u001b[0m\u001b[0m\n\u001b[1;32m     46\u001b[0m     \"\"\"\n\u001b[0;32m---> 47\u001b[0;31m     \u001b[0;32mreturn\u001b[0m \u001b[0mutil\u001b[0m\u001b[0;34m.\u001b[0m\u001b[0mload_model\u001b[0m\u001b[0;34m(\u001b[0m\u001b[0mname\u001b[0m\u001b[0;34m,\u001b[0m \u001b[0mdisable\u001b[0m\u001b[0;34m=\u001b[0m\u001b[0mdisable\u001b[0m\u001b[0;34m,\u001b[0m \u001b[0mexclude\u001b[0m\u001b[0;34m=\u001b[0m\u001b[0mexclude\u001b[0m\u001b[0;34m,\u001b[0m \u001b[0mconfig\u001b[0m\u001b[0;34m=\u001b[0m\u001b[0mconfig\u001b[0m\u001b[0;34m)\u001b[0m\u001b[0;34m\u001b[0m\u001b[0;34m\u001b[0m\u001b[0m\n\u001b[0m\u001b[1;32m     48\u001b[0m \u001b[0;34m\u001b[0m\u001b[0m\n\u001b[1;32m     49\u001b[0m \u001b[0;34m\u001b[0m\u001b[0m\n",
      "\u001b[0;32m~/.virtualenvs/NLP/lib/python3.8/site-packages/spacy/util.py\u001b[0m in \u001b[0;36mload_model\u001b[0;34m(name, vocab, disable, exclude, config)\u001b[0m\n\u001b[1;32m    327\u001b[0m     \u001b[0;32mif\u001b[0m \u001b[0mname\u001b[0m \u001b[0;32min\u001b[0m \u001b[0mOLD_MODEL_SHORTCUTS\u001b[0m\u001b[0;34m:\u001b[0m\u001b[0;34m\u001b[0m\u001b[0;34m\u001b[0m\u001b[0m\n\u001b[1;32m    328\u001b[0m         \u001b[0;32mraise\u001b[0m \u001b[0mIOError\u001b[0m\u001b[0;34m(\u001b[0m\u001b[0mErrors\u001b[0m\u001b[0;34m.\u001b[0m\u001b[0mE941\u001b[0m\u001b[0;34m.\u001b[0m\u001b[0mformat\u001b[0m\u001b[0;34m(\u001b[0m\u001b[0mname\u001b[0m\u001b[0;34m=\u001b[0m\u001b[0mname\u001b[0m\u001b[0;34m,\u001b[0m \u001b[0mfull\u001b[0m\u001b[0;34m=\u001b[0m\u001b[0mOLD_MODEL_SHORTCUTS\u001b[0m\u001b[0;34m[\u001b[0m\u001b[0mname\u001b[0m\u001b[0;34m]\u001b[0m\u001b[0;34m)\u001b[0m\u001b[0;34m)\u001b[0m\u001b[0;34m\u001b[0m\u001b[0;34m\u001b[0m\u001b[0m\n\u001b[0;32m--> 329\u001b[0;31m     \u001b[0;32mraise\u001b[0m \u001b[0mIOError\u001b[0m\u001b[0;34m(\u001b[0m\u001b[0mErrors\u001b[0m\u001b[0;34m.\u001b[0m\u001b[0mE050\u001b[0m\u001b[0;34m.\u001b[0m\u001b[0mformat\u001b[0m\u001b[0;34m(\u001b[0m\u001b[0mname\u001b[0m\u001b[0;34m=\u001b[0m\u001b[0mname\u001b[0m\u001b[0;34m)\u001b[0m\u001b[0;34m)\u001b[0m\u001b[0;34m\u001b[0m\u001b[0;34m\u001b[0m\u001b[0m\n\u001b[0m\u001b[1;32m    330\u001b[0m \u001b[0;34m\u001b[0m\u001b[0m\n\u001b[1;32m    331\u001b[0m \u001b[0;34m\u001b[0m\u001b[0m\n",
      "\u001b[0;31mOSError\u001b[0m: [E050] Can't find model '/Users/au561649/.dacy/da_dacy_small_tft-0.0.0'. It doesn't seem to be a Python package or a valid path to a data directory."
     ]
    }
   ],
   "source": [
    "#dacy_large = dacy.load(\"da_dacy_large_tft-0.0.0\")\n",
    "dacy_small = dacy.load(\"da_dacy_small_tft-0.0.0\")"
   ]
  },
  {
   "cell_type": "code",
   "execution_count": 4,
   "metadata": {},
   "outputs": [
    {
     "output_type": "execute_result",
     "data": {
      "text/plain": [
       "<spacy.lang.da.Danish at 0x1632d1c40>"
      ]
     },
     "metadata": {},
     "execution_count": 4
    }
   ],
   "source": [
    "dacy_small\n"
   ]
  },
  {
   "cell_type": "code",
   "execution_count": 9,
   "metadata": {},
   "outputs": [],
   "source": [
    "def score_augmenters(dataset, augmenters: List[Callable], apply_fn: Callable):\n",
    "\n",
    "    baseline_score = score(dataset, apply_fn=apply_fn, score_fn=[\"ents\"])\n",
    "    scores = baseline_score\n",
    "    for augmenter in augmenters:\n",
    "        scores += score(dataset, augmenter=augmenter, apply_fn=apply_fn, score_fn=[\"ents\"])\n",
    "    return scores"
   ]
  },
  {
   "cell_type": "code",
   "execution_count": 10,
   "metadata": {},
   "outputs": [],
   "source": [
    "augmenters = [dk_aug, muslim_aug, abb_aug]\n",
    "apply_large_dacy = partial(apply_model, nlp=dacy_large)\n",
    "apply_small_dacy = partial(apply_model, nlp=dacy_small)"
   ]
  },
  {
   "cell_type": "code",
   "execution_count": 11,
   "metadata": {},
   "outputs": [
    {
     "output_type": "execute_result",
     "data": {
      "text/plain": [
       "     ents_p    ents_r    ents_f  ents_per_type_LOC_p  ents_per_type_LOC_r  \\\n",
       "0  0.833333  0.797491  0.815018             0.798165              0.90625   \n",
       "1  0.866055  0.845878  0.855848             0.790909              0.90625   \n",
       "2  0.868132  0.849462  0.858696             0.798165              0.90625   \n",
       "3  0.833333  0.797491  0.815018             0.798165              0.90625   \n",
       "\n",
       "   ents_per_type_LOC_f  ents_per_type_PER_p  ents_per_type_PER_r  \\\n",
       "0              0.84878             0.896970             0.822222   \n",
       "1              0.84466             0.940541             0.966667   \n",
       "2              0.84878             0.925926             0.972222   \n",
       "3              0.84878             0.896970             0.822222   \n",
       "\n",
       "   ents_per_type_PER_f  ents_per_type_MISC_p  ents_per_type_MISC_r  \\\n",
       "0             0.857971              0.801587              0.834711   \n",
       "1             0.953425              0.801587              0.834711   \n",
       "2             0.948509              0.809524              0.842975   \n",
       "3             0.857971              0.801587              0.834711   \n",
       "\n",
       "   ents_per_type_MISC_f  ents_per_type_ORG_p  ents_per_type_ORG_r  \\\n",
       "0              0.817814             0.813433             0.677019   \n",
       "1              0.817814             0.887097             0.683230   \n",
       "2              0.825911             0.901639             0.683230   \n",
       "3              0.817814             0.813433             0.677019   \n",
       "\n",
       "   ents_per_type_ORG_f  \n",
       "0             0.738983  \n",
       "1             0.771930  \n",
       "2             0.777385  \n",
       "3             0.738983  "
      ],
      "text/html": "<div>\n<style scoped>\n    .dataframe tbody tr th:only-of-type {\n        vertical-align: middle;\n    }\n\n    .dataframe tbody tr th {\n        vertical-align: top;\n    }\n\n    .dataframe thead th {\n        text-align: right;\n    }\n</style>\n<table border=\"1\" class=\"dataframe\">\n  <thead>\n    <tr style=\"text-align: right;\">\n      <th></th>\n      <th>ents_p</th>\n      <th>ents_r</th>\n      <th>ents_f</th>\n      <th>ents_per_type_LOC_p</th>\n      <th>ents_per_type_LOC_r</th>\n      <th>ents_per_type_LOC_f</th>\n      <th>ents_per_type_PER_p</th>\n      <th>ents_per_type_PER_r</th>\n      <th>ents_per_type_PER_f</th>\n      <th>ents_per_type_MISC_p</th>\n      <th>ents_per_type_MISC_r</th>\n      <th>ents_per_type_MISC_f</th>\n      <th>ents_per_type_ORG_p</th>\n      <th>ents_per_type_ORG_r</th>\n      <th>ents_per_type_ORG_f</th>\n    </tr>\n  </thead>\n  <tbody>\n    <tr>\n      <th>0</th>\n      <td>0.833333</td>\n      <td>0.797491</td>\n      <td>0.815018</td>\n      <td>0.798165</td>\n      <td>0.90625</td>\n      <td>0.84878</td>\n      <td>0.896970</td>\n      <td>0.822222</td>\n      <td>0.857971</td>\n      <td>0.801587</td>\n      <td>0.834711</td>\n      <td>0.817814</td>\n      <td>0.813433</td>\n      <td>0.677019</td>\n      <td>0.738983</td>\n    </tr>\n    <tr>\n      <th>1</th>\n      <td>0.866055</td>\n      <td>0.845878</td>\n      <td>0.855848</td>\n      <td>0.790909</td>\n      <td>0.90625</td>\n      <td>0.84466</td>\n      <td>0.940541</td>\n      <td>0.966667</td>\n      <td>0.953425</td>\n      <td>0.801587</td>\n      <td>0.834711</td>\n      <td>0.817814</td>\n      <td>0.887097</td>\n      <td>0.683230</td>\n      <td>0.771930</td>\n    </tr>\n    <tr>\n      <th>2</th>\n      <td>0.868132</td>\n      <td>0.849462</td>\n      <td>0.858696</td>\n      <td>0.798165</td>\n      <td>0.90625</td>\n      <td>0.84878</td>\n      <td>0.925926</td>\n      <td>0.972222</td>\n      <td>0.948509</td>\n      <td>0.809524</td>\n      <td>0.842975</td>\n      <td>0.825911</td>\n      <td>0.901639</td>\n      <td>0.683230</td>\n      <td>0.777385</td>\n    </tr>\n    <tr>\n      <th>3</th>\n      <td>0.833333</td>\n      <td>0.797491</td>\n      <td>0.815018</td>\n      <td>0.798165</td>\n      <td>0.90625</td>\n      <td>0.84878</td>\n      <td>0.896970</td>\n      <td>0.822222</td>\n      <td>0.857971</td>\n      <td>0.801587</td>\n      <td>0.834711</td>\n      <td>0.817814</td>\n      <td>0.813433</td>\n      <td>0.677019</td>\n      <td>0.738983</td>\n    </tr>\n  </tbody>\n</table>\n</div>"
     },
     "metadata": {},
     "execution_count": 11
    }
   ],
   "source": [
    "score_large_dacy = score_augmenters(test, augmenters, apply_large_dacy)\n",
    "score_large_dacy.to_df()"
   ]
  },
  {
   "cell_type": "code",
   "execution_count": 12,
   "metadata": {},
   "outputs": [
    {
     "output_type": "execute_result",
     "data": {
      "text/plain": [
       "     ents_p    ents_r    ents_f  ents_per_type_LOC_p  ents_per_type_LOC_r  \\\n",
       "0  0.703565  0.672043  0.687443             0.752294             0.854167   \n",
       "1  0.712747  0.711470  0.712108             0.725664             0.854167   \n",
       "2  0.713249  0.704301  0.708747             0.741071             0.864583   \n",
       "3  0.703565  0.672043  0.687443             0.752294             0.854167   \n",
       "\n",
       "   ents_per_type_LOC_f  ents_per_type_PER_p  ents_per_type_PER_r  \\\n",
       "0             0.800000             0.805031             0.711111   \n",
       "1             0.784689             0.814208             0.827778   \n",
       "2             0.798077             0.803279             0.816667   \n",
       "3             0.800000             0.805031             0.711111   \n",
       "\n",
       "   ents_per_type_PER_f  ents_per_type_MISC_p  ents_per_type_MISC_r  \\\n",
       "0             0.755162              0.635659              0.677686   \n",
       "1             0.820937              0.625954              0.677686   \n",
       "2             0.809917              0.653226              0.669421   \n",
       "3             0.755162              0.635659              0.677686   \n",
       "\n",
       "   ents_per_type_MISC_f  ents_per_type_ORG_p  ents_per_type_ORG_r  \\\n",
       "0              0.656000             0.610294             0.515528   \n",
       "1              0.650794             0.646154             0.521739   \n",
       "2              0.661224             0.621212             0.509317   \n",
       "3              0.656000             0.610294             0.515528   \n",
       "\n",
       "   ents_per_type_ORG_f  \n",
       "0             0.558923  \n",
       "1             0.577320  \n",
       "2             0.559727  \n",
       "3             0.558923  "
      ],
      "text/html": "<div>\n<style scoped>\n    .dataframe tbody tr th:only-of-type {\n        vertical-align: middle;\n    }\n\n    .dataframe tbody tr th {\n        vertical-align: top;\n    }\n\n    .dataframe thead th {\n        text-align: right;\n    }\n</style>\n<table border=\"1\" class=\"dataframe\">\n  <thead>\n    <tr style=\"text-align: right;\">\n      <th></th>\n      <th>ents_p</th>\n      <th>ents_r</th>\n      <th>ents_f</th>\n      <th>ents_per_type_LOC_p</th>\n      <th>ents_per_type_LOC_r</th>\n      <th>ents_per_type_LOC_f</th>\n      <th>ents_per_type_PER_p</th>\n      <th>ents_per_type_PER_r</th>\n      <th>ents_per_type_PER_f</th>\n      <th>ents_per_type_MISC_p</th>\n      <th>ents_per_type_MISC_r</th>\n      <th>ents_per_type_MISC_f</th>\n      <th>ents_per_type_ORG_p</th>\n      <th>ents_per_type_ORG_r</th>\n      <th>ents_per_type_ORG_f</th>\n    </tr>\n  </thead>\n  <tbody>\n    <tr>\n      <th>0</th>\n      <td>0.703565</td>\n      <td>0.672043</td>\n      <td>0.687443</td>\n      <td>0.752294</td>\n      <td>0.854167</td>\n      <td>0.800000</td>\n      <td>0.805031</td>\n      <td>0.711111</td>\n      <td>0.755162</td>\n      <td>0.635659</td>\n      <td>0.677686</td>\n      <td>0.656000</td>\n      <td>0.610294</td>\n      <td>0.515528</td>\n      <td>0.558923</td>\n    </tr>\n    <tr>\n      <th>1</th>\n      <td>0.712747</td>\n      <td>0.711470</td>\n      <td>0.712108</td>\n      <td>0.725664</td>\n      <td>0.854167</td>\n      <td>0.784689</td>\n      <td>0.814208</td>\n      <td>0.827778</td>\n      <td>0.820937</td>\n      <td>0.625954</td>\n      <td>0.677686</td>\n      <td>0.650794</td>\n      <td>0.646154</td>\n      <td>0.521739</td>\n      <td>0.577320</td>\n    </tr>\n    <tr>\n      <th>2</th>\n      <td>0.713249</td>\n      <td>0.704301</td>\n      <td>0.708747</td>\n      <td>0.741071</td>\n      <td>0.864583</td>\n      <td>0.798077</td>\n      <td>0.803279</td>\n      <td>0.816667</td>\n      <td>0.809917</td>\n      <td>0.653226</td>\n      <td>0.669421</td>\n      <td>0.661224</td>\n      <td>0.621212</td>\n      <td>0.509317</td>\n      <td>0.559727</td>\n    </tr>\n    <tr>\n      <th>3</th>\n      <td>0.703565</td>\n      <td>0.672043</td>\n      <td>0.687443</td>\n      <td>0.752294</td>\n      <td>0.854167</td>\n      <td>0.800000</td>\n      <td>0.805031</td>\n      <td>0.711111</td>\n      <td>0.755162</td>\n      <td>0.635659</td>\n      <td>0.677686</td>\n      <td>0.656000</td>\n      <td>0.610294</td>\n      <td>0.515528</td>\n      <td>0.558923</td>\n    </tr>\n  </tbody>\n</table>\n</div>"
     },
     "metadata": {},
     "execution_count": 12
    }
   ],
   "source": [
    "score_small_dacy = score_augmenters(test, augmenters, apply_small_dacy)\n",
    "score_small_dacy.to_df()"
   ]
  },
  {
   "cell_type": "code",
   "execution_count": 13,
   "metadata": {},
   "outputs": [
    {
     "output_type": "execute_result",
     "data": {
      "text/plain": [
       "     ents_p    ents_r    ents_f  ents_per_type_LOC_p  ents_per_type_LOC_r  \\\n",
       "0  0.705757  0.593190  0.644596             0.680000             0.708333   \n",
       "1  0.728016  0.637993  0.680038             0.680000             0.708333   \n",
       "2  0.697531  0.607527  0.649425             0.666667             0.708333   \n",
       "3  0.705757  0.593190  0.644596             0.680000             0.708333   \n",
       "\n",
       "   ents_per_type_LOC_f  ents_per_type_PER_p  ents_per_type_PER_r  \\\n",
       "0             0.693878             0.732558             0.700000   \n",
       "1             0.693878             0.757576             0.833333   \n",
       "2             0.686869             0.734807             0.738889   \n",
       "3             0.693878             0.732558             0.700000   \n",
       "\n",
       "   ents_per_type_PER_f  ents_per_type_MISC_p  ents_per_type_MISC_r  \\\n",
       "0             0.715909              0.686869              0.561983   \n",
       "1             0.793651              0.696970              0.570248   \n",
       "2             0.736842              0.690000              0.570248   \n",
       "3             0.715909              0.686869              0.561983   \n",
       "\n",
       "   ents_per_type_MISC_f  ents_per_type_ORG_p  ents_per_type_ORG_r  \\\n",
       "0              0.618182             0.704082             0.428571   \n",
       "1              0.627273             0.750000             0.428571   \n",
       "2              0.624434             0.669903             0.428571   \n",
       "3              0.618182             0.704082             0.428571   \n",
       "\n",
       "   ents_per_type_ORG_f  \n",
       "0             0.532819  \n",
       "1             0.545455  \n",
       "2             0.522727  \n",
       "3             0.532819  "
      ],
      "text/html": "<div>\n<style scoped>\n    .dataframe tbody tr th:only-of-type {\n        vertical-align: middle;\n    }\n\n    .dataframe tbody tr th {\n        vertical-align: top;\n    }\n\n    .dataframe thead th {\n        text-align: right;\n    }\n</style>\n<table border=\"1\" class=\"dataframe\">\n  <thead>\n    <tr style=\"text-align: right;\">\n      <th></th>\n      <th>ents_p</th>\n      <th>ents_r</th>\n      <th>ents_f</th>\n      <th>ents_per_type_LOC_p</th>\n      <th>ents_per_type_LOC_r</th>\n      <th>ents_per_type_LOC_f</th>\n      <th>ents_per_type_PER_p</th>\n      <th>ents_per_type_PER_r</th>\n      <th>ents_per_type_PER_f</th>\n      <th>ents_per_type_MISC_p</th>\n      <th>ents_per_type_MISC_r</th>\n      <th>ents_per_type_MISC_f</th>\n      <th>ents_per_type_ORG_p</th>\n      <th>ents_per_type_ORG_r</th>\n      <th>ents_per_type_ORG_f</th>\n    </tr>\n  </thead>\n  <tbody>\n    <tr>\n      <th>0</th>\n      <td>0.705757</td>\n      <td>0.593190</td>\n      <td>0.644596</td>\n      <td>0.680000</td>\n      <td>0.708333</td>\n      <td>0.693878</td>\n      <td>0.732558</td>\n      <td>0.700000</td>\n      <td>0.715909</td>\n      <td>0.686869</td>\n      <td>0.561983</td>\n      <td>0.618182</td>\n      <td>0.704082</td>\n      <td>0.428571</td>\n      <td>0.532819</td>\n    </tr>\n    <tr>\n      <th>1</th>\n      <td>0.728016</td>\n      <td>0.637993</td>\n      <td>0.680038</td>\n      <td>0.680000</td>\n      <td>0.708333</td>\n      <td>0.693878</td>\n      <td>0.757576</td>\n      <td>0.833333</td>\n      <td>0.793651</td>\n      <td>0.696970</td>\n      <td>0.570248</td>\n      <td>0.627273</td>\n      <td>0.750000</td>\n      <td>0.428571</td>\n      <td>0.545455</td>\n    </tr>\n    <tr>\n      <th>2</th>\n      <td>0.697531</td>\n      <td>0.607527</td>\n      <td>0.649425</td>\n      <td>0.666667</td>\n      <td>0.708333</td>\n      <td>0.686869</td>\n      <td>0.734807</td>\n      <td>0.738889</td>\n      <td>0.736842</td>\n      <td>0.690000</td>\n      <td>0.570248</td>\n      <td>0.624434</td>\n      <td>0.669903</td>\n      <td>0.428571</td>\n      <td>0.522727</td>\n    </tr>\n    <tr>\n      <th>3</th>\n      <td>0.705757</td>\n      <td>0.593190</td>\n      <td>0.644596</td>\n      <td>0.680000</td>\n      <td>0.708333</td>\n      <td>0.693878</td>\n      <td>0.732558</td>\n      <td>0.700000</td>\n      <td>0.715909</td>\n      <td>0.686869</td>\n      <td>0.561983</td>\n      <td>0.618182</td>\n      <td>0.704082</td>\n      <td>0.428571</td>\n      <td>0.532819</td>\n    </tr>\n  </tbody>\n</table>\n</div>"
     },
     "metadata": {},
     "execution_count": 13
    }
   ],
   "source": [
    "score_small_spacy = score_augmenters(test, augmenters, apply_spacy_model)\n",
    "score_small_spacy.to_df()"
   ]
  },
  {
   "source": [
    "As you can see, the models obtain slightly different performance with the `dk_aug` and `muslim_aug` per run. This is because names are randomly sampled each time, where some names might be easier to predict than others. To account for this, `score` includes a `k` argument which you can use to run the model `k` times for a more robust performance estimate. "
   ],
   "cell_type": "markdown",
   "metadata": {}
  },
  {
   "source": [
    "## Weird stuff is happening with the score function -> row 1 and 4 should be the same across runs (tested and is the case in `test_name_augmenter`)"
   ],
   "cell_type": "markdown",
   "metadata": {}
  },
  {
   "cell_type": "code",
   "execution_count": null,
   "metadata": {},
   "outputs": [],
   "source": []
  },
  {
   "cell_type": "code",
   "execution_count": null,
   "metadata": {},
   "outputs": [],
   "source": []
  }
 ]
}