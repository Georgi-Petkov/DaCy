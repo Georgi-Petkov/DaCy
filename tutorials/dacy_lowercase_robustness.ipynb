{
 "metadata": {
  "language_info": {
   "codemirror_mode": {
    "name": "ipython",
    "version": 3
   },
   "file_extension": ".py",
   "mimetype": "text/x-python",
   "name": "python",
   "nbconvert_exporter": "python",
   "pygments_lexer": "ipython3",
   "version": "3.8.8-final"
  },
  "orig_nbformat": 2,
  "kernelspec": {
   "name": "python3",
   "display_name": "Python 3.8.8 64-bit ('NLP': venv)",
   "metadata": {
    "interpreter": {
     "hash": "2136a9c3637fd160483224d7922e48bf03b650be5dff26724a0c1f8d1279953b"
    }
   }
  }
 },
 "nbformat": 4,
 "nbformat_minor": 2,
 "cells": [
  {
   "source": [
    "# WIP: Robustness and Bias checks with DaCy\n",
    "----\n",
    "\n",
    "These falls into a larger category of [behavioral testing](https://github.com/marcotcr/checklist) of NLP systems.\n",
    "\n",
    "## Setup\n",
    "---\n",
    "Before we start we assume you have installed DaCy and SpaCy if not you can run the following:\n"
   ],
   "cell_type": "markdown",
   "metadata": {}
  },
  {
   "cell_type": "code",
   "execution_count": 1,
   "metadata": {},
   "outputs": [],
   "source": [
    "!pip install git+https://github.com/KennethEnevoldsen/DaCy"
   ]
  },
  {
   "cell_type": "code",
   "execution_count": null,
   "metadata": {},
   "outputs": [],
   "source": [
    "# when running from a downloaded version of the github you will need to move back one folder.\n",
    "import os\n",
    "os.chdir(\"..\")"
   ]
  },
  {
   "source": [
    "\n",
    "----\n",
    "\n",
    "Let's start of by loading DaCy as well as the smallest of the two models:"
   ],
   "cell_type": "markdown",
   "metadata": {}
  },
  {
   "cell_type": "code",
   "execution_count": 1,
   "metadata": {},
   "outputs": [
    {
     "output_type": "stream",
     "name": "stdout",
     "text": [
      "da_dacy_medium_tft-0.0.0\nda_dacy_large_tft-0.0.0\n"
     ]
    }
   ],
   "source": [
    "import dacy\n",
    "\n",
    "# to see available models\n",
    "for model in dacy.models():\n",
    "    print(model)\n",
    "\n",
    "# loading the smallest model\n",
    "nlp = dacy.load(\"da_dacy_large_tft-0.0.0\")"
   ]
  },
  {
   "source": [
    "# ADD EXAMPLE HERE\n"
   ],
   "cell_type": "markdown",
   "metadata": {}
  },
  {
   "cell_type": "code",
   "execution_count": null,
   "metadata": {},
   "outputs": [],
   "source": []
  }
 ]
}